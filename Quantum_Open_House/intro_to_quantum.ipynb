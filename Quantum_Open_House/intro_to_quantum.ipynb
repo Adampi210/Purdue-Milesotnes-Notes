{
 "cells": [
  {
   "cell_type": "markdown",
   "metadata": {},
   "source": [
    "**Intro to Quantum**"
   ]
  },
  {
   "cell_type": "markdown",
   "metadata": {},
   "source": [
    "Quantum:\n",
    "- Microscopic world $\\rightarrow$ electrons, protons, neutrons\n",
    "- At small scales, articles behave like waves\n",
    "- Wave tells us:\n",
    "    - Where the particle is\n",
    "    - How fast it is moving\n",
    "- Mechanics = How things move\n",
    "- Quantum = count in whole numbers (quantized)\n",
    "- In quantum world waves can be quantized:\n",
    "    - Electrons and atoms come in descrete notions\n",
    "\n",
    "Superposition:\n",
    "- One particle can be at many different locations at the same time\n",
    "- Superposition leads to interference\n",
    "\n",
    "Quantum mechanics and metals\n",
    "- Atoms in metals are arranged in grid, and the electrons can move in-between\n",
    "- If electrons were pure particles $\\rightarrow$ they would bounce around and no electricity would flow!\n",
    "- In reality, electrons \"wave\" their way through\n",
    "- Thermal motion (Temperature = kinetic energy) of an atom creates resistance in metals.\n",
    "- In supercoductive materials, electrons pair up and flow with zero resistance\n",
    "    - Pairing up = entanglement"
   ]
  },
  {
   "cell_type": "markdown",
   "metadata": {},
   "source": []
  }
 ],
 "metadata": {
  "language_info": {
   "name": "python"
  },
  "orig_nbformat": 4
 },
 "nbformat": 4,
 "nbformat_minor": 2
}
